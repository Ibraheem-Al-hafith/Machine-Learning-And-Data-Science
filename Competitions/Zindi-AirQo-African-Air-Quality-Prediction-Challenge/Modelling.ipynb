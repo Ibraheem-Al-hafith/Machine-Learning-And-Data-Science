{
 "cells": [
  {
   "cell_type": "code",
   "execution_count": 35,
   "id": "25f59abc-c06e-4671-92da-f3eb75acc357",
   "metadata": {},
   "outputs": [],
   "source": [
    "# data reading:\n",
    "import pandas as pd\n",
    "import numpy as np\n",
    "\n",
    "# Data Visualization:\n",
    "import matplotlib.pyplot as plt\n",
    "import seaborn as sns\n",
    "\n",
    "from sklearn.model_selection import LeaveOneGroupOut\n",
    "from sklearn.metrics import mean_squared_error as metric\n",
    "\n",
    "from lightgbm import LGBMRegressor"
   ]
  },
  {
   "cell_type": "code",
   "execution_count": 36,
   "id": "84c7a09a-f8a1-40e1-8c19-d4b4d63b0626",
   "metadata": {},
   "outputs": [],
   "source": [
    "class PATH:\n",
    "    main = 'Data/'\n",
    "    train = main + 'processed_train.csv'\n",
    "    test = main + 'processed_test.csv'\n",
    "    ss = main + 'SampleSubmission.csv'"
   ]
  },
  {
   "cell_type": "code",
   "execution_count": 37,
   "id": "4bc48dae-0dee-4a0e-8a2a-4187b537fbdf",
   "metadata": {},
   "outputs": [
    {
     "name": "stdout",
     "output_type": "stream",
     "text": [
      "train shape :(7909, 35)\n",
      "test shape :(2783, 34)\n"
     ]
    }
   ],
   "source": [
    "train_df = pd.read_csv(PATH.train).sort_values(by=['country','city','site_id','date','hour']).reset_index(drop=True)\n",
    "test_df = pd.read_csv(PATH.test).sort_values(by=['country','city','site_id','date','hour']).reset_index(drop=True)\n",
    "\n",
    "print(\n",
    "    f'train shape :{train_df.shape}',\n",
    "    f'test shape :{test_df.shape}',\n",
    "    sep='\\n'\n",
    ")"
   ]
  },
  {
   "cell_type": "markdown",
   "id": "25e1540f-d40c-4ab9-8935-26153c1d0320",
   "metadata": {},
   "source": [
    "* ### lets drop id,site_id columns since its not predictive,(select only numerical columns):"
   ]
  },
  {
   "cell_type": "code",
   "execution_count": 38,
   "id": "962d6ced-8ed6-4641-9d5d-2316277aa12f",
   "metadata": {},
   "outputs": [
    {
     "data": {
      "text/plain": [
       "['site_latitude',\n",
       " 'site_longitude',\n",
       " 'city',\n",
       " 'country',\n",
       " 'date',\n",
       " 'hour',\n",
       " 'month',\n",
       " 'carbonmonoxide_co_column_number_density',\n",
       " 'carbonmonoxide_h2o_column_number_density',\n",
       " 'carbonmonoxide_cloud_height',\n",
       " 'formaldehyde_tropospheric_hcho_column_number_density',\n",
       " 'formaldehyde_tropospheric_hcho_column_number_density_amf',\n",
       " 'formaldehyde_hcho_slant_column_number_density',\n",
       " 'ozone_o3_column_number_density',\n",
       " 'ozone_o3_effective_temperature',\n",
       " 'cloud_cloud_optical_depth',\n",
       " 'cloud_surface_albedo',\n",
       " '2_groub_mean',\n",
       " '3_groub_mean',\n",
       " '4_groub_mean',\n",
       " '5_groub_mean',\n",
       " '6_groub_mean',\n",
       " '7_groub_mean',\n",
       " '8_groub_mean',\n",
       " '10_groub_mean',\n",
       " '11_groub_mean',\n",
       " '12_groub_mean',\n",
       " 'date_month',\n",
       " 'date_day',\n",
       " 'date_quarter',\n",
       " 'date_week',\n",
       " 'date_year']"
      ]
     },
     "execution_count": 38,
     "metadata": {},
     "output_type": "execute_result"
    }
   ],
   "source": [
    "selected_columns=test_df.select_dtypes(include=('number')).columns.tolist()\n",
    "selected_columns"
   ]
  },
  {
   "cell_type": "code",
   "execution_count": 39,
   "id": "a50e025f-d862-477d-826b-f733b9a95f2b",
   "metadata": {},
   "outputs": [
    {
     "name": "stdout",
     "output_type": "stream",
     "text": [
      "--------------------------------------------------\n",
      "Fold 1\n",
      "train points :7793 test points :116\n",
      "Validation RMSE: 12.107084694069195\n",
      "--------------------------------------------------\n",
      "Fold 2\n",
      "train points :6418 test points :1491\n",
      "Validation RMSE: 10.388712707356985\n",
      "--------------------------------------------------\n",
      "Fold 3\n",
      "train points :7151 test points :758\n",
      "Validation RMSE: 14.429345069867999\n",
      "--------------------------------------------------\n",
      "Fold 4\n",
      "train points :2365 test points :5544\n",
      "Validation RMSE: 12.56511255984818\n",
      "\n",
      " average error :12.37256375778559\n"
     ]
    }
   ],
   "source": [
    "cv =LeaveOneGroupOut()\n",
    "\n",
    "X=train_df[selected_columns]\n",
    "y=train_df.pm2_5\n",
    "\n",
    "rmse_average = []\n",
    "test_preds = []\n",
    "oof=y.copy()\n",
    "\n",
    "model=LGBMRegressor(verbose=-1)\n",
    "for fold, (train_index, val_index) in enumerate(cv.split(X,y,X.city)):\n",
    "  print(50*'-')\n",
    "  print(f'Fold {fold+1}')\n",
    "  X_train, X_val = X.iloc[train_index], X.iloc[val_index]\n",
    "  y_train, y_val = y[train_index], y[val_index]\n",
    "\n",
    "  val_preds=[]\n",
    "  model.fit(X_train,y_train)\n",
    "  val_preds = model.predict(X_val)\n",
    "  oof.iloc[val_index]=val_preds\n",
    "    \n",
    "  rmse = metric(y_val, val_preds,squared=False)\n",
    "\n",
    "  print(f'train points :{len(train_index)}',f'test points :{len(val_index)}')\n",
    "  print(\"Validation RMSE:\", rmse)\n",
    "\n",
    "  rmse_average.append(rmse)\n",
    "\n",
    "print(f'\\n average error :{np.mean(rmse_average)}')"
   ]
  },
  {
   "cell_type": "markdown",
   "id": "8910c553-fd2c-4349-ae61-0d37b49fc5cd",
   "metadata": {},
   "source": [
    "# make the submission :"
   ]
  },
  {
   "cell_type": "code",
   "execution_count": 40,
   "id": "51bb5edc-4d6a-4f4a-95f7-ea99286343e2",
   "metadata": {},
   "outputs": [
    {
     "data": {
      "text/html": [
       "<style>#sk-container-id-3 {color: black;}#sk-container-id-3 pre{padding: 0;}#sk-container-id-3 div.sk-toggleable {background-color: white;}#sk-container-id-3 label.sk-toggleable__label {cursor: pointer;display: block;width: 100%;margin-bottom: 0;padding: 0.3em;box-sizing: border-box;text-align: center;}#sk-container-id-3 label.sk-toggleable__label-arrow:before {content: \"▸\";float: left;margin-right: 0.25em;color: #696969;}#sk-container-id-3 label.sk-toggleable__label-arrow:hover:before {color: black;}#sk-container-id-3 div.sk-estimator:hover label.sk-toggleable__label-arrow:before {color: black;}#sk-container-id-3 div.sk-toggleable__content {max-height: 0;max-width: 0;overflow: hidden;text-align: left;background-color: #f0f8ff;}#sk-container-id-3 div.sk-toggleable__content pre {margin: 0.2em;color: black;border-radius: 0.25em;background-color: #f0f8ff;}#sk-container-id-3 input.sk-toggleable__control:checked~div.sk-toggleable__content {max-height: 200px;max-width: 100%;overflow: auto;}#sk-container-id-3 input.sk-toggleable__control:checked~label.sk-toggleable__label-arrow:before {content: \"▾\";}#sk-container-id-3 div.sk-estimator input.sk-toggleable__control:checked~label.sk-toggleable__label {background-color: #d4ebff;}#sk-container-id-3 div.sk-label input.sk-toggleable__control:checked~label.sk-toggleable__label {background-color: #d4ebff;}#sk-container-id-3 input.sk-hidden--visually {border: 0;clip: rect(1px 1px 1px 1px);clip: rect(1px, 1px, 1px, 1px);height: 1px;margin: -1px;overflow: hidden;padding: 0;position: absolute;width: 1px;}#sk-container-id-3 div.sk-estimator {font-family: monospace;background-color: #f0f8ff;border: 1px dotted black;border-radius: 0.25em;box-sizing: border-box;margin-bottom: 0.5em;}#sk-container-id-3 div.sk-estimator:hover {background-color: #d4ebff;}#sk-container-id-3 div.sk-parallel-item::after {content: \"\";width: 100%;border-bottom: 1px solid gray;flex-grow: 1;}#sk-container-id-3 div.sk-label:hover label.sk-toggleable__label {background-color: #d4ebff;}#sk-container-id-3 div.sk-serial::before {content: \"\";position: absolute;border-left: 1px solid gray;box-sizing: border-box;top: 0;bottom: 0;left: 50%;z-index: 0;}#sk-container-id-3 div.sk-serial {display: flex;flex-direction: column;align-items: center;background-color: white;padding-right: 0.2em;padding-left: 0.2em;position: relative;}#sk-container-id-3 div.sk-item {position: relative;z-index: 1;}#sk-container-id-3 div.sk-parallel {display: flex;align-items: stretch;justify-content: center;background-color: white;position: relative;}#sk-container-id-3 div.sk-item::before, #sk-container-id-3 div.sk-parallel-item::before {content: \"\";position: absolute;border-left: 1px solid gray;box-sizing: border-box;top: 0;bottom: 0;left: 50%;z-index: -1;}#sk-container-id-3 div.sk-parallel-item {display: flex;flex-direction: column;z-index: 1;position: relative;background-color: white;}#sk-container-id-3 div.sk-parallel-item:first-child::after {align-self: flex-end;width: 50%;}#sk-container-id-3 div.sk-parallel-item:last-child::after {align-self: flex-start;width: 50%;}#sk-container-id-3 div.sk-parallel-item:only-child::after {width: 0;}#sk-container-id-3 div.sk-dashed-wrapped {border: 1px dashed gray;margin: 0 0.4em 0.5em 0.4em;box-sizing: border-box;padding-bottom: 0.4em;background-color: white;}#sk-container-id-3 div.sk-label label {font-family: monospace;font-weight: bold;display: inline-block;line-height: 1.2em;}#sk-container-id-3 div.sk-label-container {text-align: center;}#sk-container-id-3 div.sk-container {/* jupyter's `normalize.less` sets `[hidden] { display: none; }` but bootstrap.min.css set `[hidden] { display: none !important; }` so we also need the `!important` here to be able to override the default hidden behavior on the sphinx rendered scikit-learn.org. See: https://github.com/scikit-learn/scikit-learn/issues/21755 */display: inline-block !important;position: relative;}#sk-container-id-3 div.sk-text-repr-fallback {display: none;}</style><div id=\"sk-container-id-3\" class=\"sk-top-container\"><div class=\"sk-text-repr-fallback\"><pre>LGBMRegressor(verbose=-1)</pre><b>In a Jupyter environment, please rerun this cell to show the HTML representation or trust the notebook. <br />On GitHub, the HTML representation is unable to render, please try loading this page with nbviewer.org.</b></div><div class=\"sk-container\" hidden><div class=\"sk-item\"><div class=\"sk-estimator sk-toggleable\"><input class=\"sk-toggleable__control sk-hidden--visually\" id=\"sk-estimator-id-3\" type=\"checkbox\" checked><label for=\"sk-estimator-id-3\" class=\"sk-toggleable__label sk-toggleable__label-arrow\">LGBMRegressor</label><div class=\"sk-toggleable__content\"><pre>LGBMRegressor(verbose=-1)</pre></div></div></div></div></div>"
      ],
      "text/plain": [
       "LGBMRegressor(verbose=-1)"
      ]
     },
     "execution_count": 40,
     "metadata": {},
     "output_type": "execute_result"
    }
   ],
   "source": [
    "# lets fit our model on the whole traim\n",
    "model.fit(X,y)"
   ]
  },
  {
   "cell_type": "code",
   "execution_count": 41,
   "id": "d38d7e61-eae4-4fbe-804e-c1a95e652c1b",
   "metadata": {},
   "outputs": [
    {
     "data": {
      "text/plain": [
       "array([11.76405001, 12.83618691,  9.80107672, ..., 49.7226381 ,\n",
       "       32.97708575, 24.97874375])"
      ]
     },
     "execution_count": 41,
     "metadata": {},
     "output_type": "execute_result"
    }
   ],
   "source": [
    "preds=model.predict(test_df[selected_columns])\n",
    "preds"
   ]
  },
  {
   "cell_type": "code",
   "execution_count": 42,
   "id": "ff980616-850d-4079-accb-2e5cbd262d2e",
   "metadata": {},
   "outputs": [
    {
     "data": {
      "text/html": [
       "<div>\n",
       "<style scoped>\n",
       "    .dataframe tbody tr th:only-of-type {\n",
       "        vertical-align: middle;\n",
       "    }\n",
       "\n",
       "    .dataframe tbody tr th {\n",
       "        vertical-align: top;\n",
       "    }\n",
       "\n",
       "    .dataframe thead th {\n",
       "        text-align: right;\n",
       "    }\n",
       "</style>\n",
       "<table border=\"1\" class=\"dataframe\">\n",
       "  <thead>\n",
       "    <tr style=\"text-align: right;\">\n",
       "      <th></th>\n",
       "      <th>id</th>\n",
       "      <th>pm2_5</th>\n",
       "    </tr>\n",
       "  </thead>\n",
       "  <tbody>\n",
       "    <tr>\n",
       "      <th>0</th>\n",
       "      <td>id_tl446ky5so</td>\n",
       "      <td>11.764050</td>\n",
       "    </tr>\n",
       "    <tr>\n",
       "      <th>1</th>\n",
       "      <td>id_fv0k1xke9b</td>\n",
       "      <td>12.836187</td>\n",
       "    </tr>\n",
       "    <tr>\n",
       "      <th>2</th>\n",
       "      <td>id_17qgwq8hor</td>\n",
       "      <td>9.801077</td>\n",
       "    </tr>\n",
       "    <tr>\n",
       "      <th>3</th>\n",
       "      <td>id_h169vb8h8d</td>\n",
       "      <td>11.883006</td>\n",
       "    </tr>\n",
       "    <tr>\n",
       "      <th>4</th>\n",
       "      <td>id_o62drksqmp</td>\n",
       "      <td>11.442348</td>\n",
       "    </tr>\n",
       "  </tbody>\n",
       "</table>\n",
       "</div>"
      ],
      "text/plain": [
       "              id      pm2_5\n",
       "0  id_tl446ky5so  11.764050\n",
       "1  id_fv0k1xke9b  12.836187\n",
       "2  id_17qgwq8hor   9.801077\n",
       "3  id_h169vb8h8d  11.883006\n",
       "4  id_o62drksqmp  11.442348"
      ]
     },
     "execution_count": 42,
     "metadata": {},
     "output_type": "execute_result"
    }
   ],
   "source": [
    "sub = pd.DataFrame(\n",
    "    {\n",
    "        'id' : test_df.id,\n",
    "        'pm2_5' : preds\n",
    "    }\n",
    ")\n",
    "sub.head()"
   ]
  },
  {
   "cell_type": "code",
   "execution_count": 43,
   "id": "87022abe-6064-40a0-83e3-745bbb68ee76",
   "metadata": {},
   "outputs": [],
   "source": [
    "sub.to_csv('submission.csv',index=False)"
   ]
  },
  {
   "cell_type": "code",
   "execution_count": null,
   "id": "e73efd30-067f-4289-ab61-cde2c7c520c6",
   "metadata": {},
   "outputs": [],
   "source": []
  }
 ],
 "metadata": {
  "kernelspec": {
   "display_name": "Python 3 (ipykernel)",
   "language": "python",
   "name": "python3"
  },
  "language_info": {
   "codemirror_mode": {
    "name": "ipython",
    "version": 3
   },
   "file_extension": ".py",
   "mimetype": "text/x-python",
   "name": "python",
   "nbconvert_exporter": "python",
   "pygments_lexer": "ipython3",
   "version": "3.11.2"
  }
 },
 "nbformat": 4,
 "nbformat_minor": 5
}
